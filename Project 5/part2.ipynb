{
 "cells": [
  {
   "cell_type": "code",
   "execution_count": 2,
   "metadata": {},
   "outputs": [],
   "source": [
    "import json\n",
    "import os\n",
    "import pickle\n",
    "import re"
   ]
  },
  {
   "cell_type": "code",
   "execution_count": 5,
   "metadata": {},
   "outputs": [],
   "source": [
    "washington_words = ['Seattle','Washington','WA','Kirkland','Seahawks']\n",
    "massachusetts_words = ['MA','Massachusetts','Boston','Greater','Patriots']"
   ]
  },
  {
   "cell_type": "code",
   "execution_count": 15,
   "metadata": {},
   "outputs": [],
   "source": [
    "def read_data(filename,n_rows=100000):\n",
    "    data = []\n",
    "    with open(os.path.join('data','train',filename)) as fp:\n",
    "        for line in fp:\n",
    "            entry = json.loads(line)\n",
    "            if(location_condition(entry['tweet']['user']['location'],\n",
    "                                  washington_words,massachusetts_words)):\n",
    "                data.append(entry['tweet'])\n",
    "    return data\n",
    "\n",
    "def get_tweets(data):\n",
    "    values = []\n",
    "    for entry in data:\n",
    "        values.append(entry['text'])\n",
    "    return values\n",
    "\n",
    "def get_locations(data):\n",
    "    values = []\n",
    "    for entry in data:\n",
    "        values.append(entry['user']['location'])\n",
    "    return values\n",
    "\n",
    "def location_condition(location,loc1_words,loc2_words):\n",
    "    if any(word in location for word in loc1_words) or any(word in location for word in loc2_words):\n",
    "        return True\n",
    "    return False\n",
    "\n",
    "def get_labeled_data(tweets,locations,loc1_words,loc2_words):\n",
    "    labels=[]\n",
    "    data = []\n",
    "    for index,loc in enumerate(locations):\n",
    "        if any(word in loc for word in loc1_words):\n",
    "            data.append(tweets[index])\n",
    "            labels.append(1)\n",
    "        elif  any(word in loc for word in loc2_words):\n",
    "            data.append(tweets[index])\n",
    "            labels.append(-1)\n",
    "    return [preprocess_tweets(data),labels]\n",
    "\n",
    "def preprocess_tweets(data):\n",
    "    processed_tweets = []\n",
    "    emoticons_str = r\"\"\"\n",
    "        (?:\n",
    "            [:=;] # Eyes\n",
    "            [oO\\-]? # Nose (optional)\n",
    "            [D\\)\\]\\(\\]/\\\\OpP] # Mouth\n",
    "        )\"\"\"\n",
    "    html_str = r'<[^>]+>'\n",
    "    mention_str = r'(?:@[\\w_]+)'\n",
    "    hash_tag_str = r\"(?:\\#+[\\w_]+[\\w\\'_\\-]*[\\w_]+)\"\n",
    "    url_str = r'http[s]?://(?:[a-z]|[0-9]|[$-_@.&amp;+]|[!*\\(\\),]|(?:%[0-9a-f][0-9a-f]))+'\n",
    "    numbers_str = r'(?:(?:\\d+,?)+(?:\\.?\\d+)?)'\n",
    "    regex_str = [\n",
    "        emoticons_str, html_str, mention_str,\n",
    "        hash_tag_str, url_str, numbers_str,\n",
    "        r\"(?:[a-z][a-z'\\-_]+[a-z])\", # words with - and '\n",
    "        r'(?:[\\w_]+)', # other words\n",
    "    ]\n",
    "\n",
    "    delete_str = [\n",
    "        emoticons_str, html_str, mention_str,\n",
    "        url_str, numbers_str, r'RT'\n",
    "    ]\n",
    "\n",
    "    tokens_re = re.compile(r'('+'|'.join(regex_str)+')', re.VERBOSE | re.IGNORECASE)\n",
    "    emoticon_re = re.compile(r'^'+emoticons_str+'$', re.VERBOSE | re.IGNORECASE)\n",
    "    delete_re = re.compile(r'('+'|'.join(delete_str)+')', re.VERBOSE | re.IGNORECASE)\n",
    "\n",
    "    def tokenize(s):\n",
    "        return tokens_re.findall(s)\n",
    "\n",
    "    def preprocess(s, lowercase=True):\n",
    "        tokens = tokenize(s)\n",
    "        if lowercase:\n",
    "            tokens = [token.lower() for token in tokens if not delete_re.search(token)]\n",
    "        return tokens\n",
    "\n",
    "    for tweet in data:\n",
    "        processed_tweets.append(preprocess(tweet))\n",
    "    return processed_tweets"
   ]
  },
  {
   "cell_type": "code",
   "execution_count": 16,
   "metadata": {},
   "outputs": [],
   "source": [
    "load_data = True\n",
    "if(not load_data):\n",
    "    superbowl = read_data('tweets_#superbowl.txt')\n",
    "    tweets = get_tweets(superbowl)\n",
    "    locations = get_locations(superbowl)\n",
    "    data,labels = get_labeled_data(tweets,locations,washington_words,massachusetts_words)\n",
    "    with(open('data/train/part2/part2-data.pkl','wb')) as fp:\n",
    "        pickle.dump([data,labels],fp,protocol=2)\n",
    "else:\n",
    "    with(open('data/train/part2/part2-data.pkl','wb')) as fp:\n",
    "        data,labels = pickle.load(fp)\n"
   ]
  },
  {
   "cell_type": "code",
   "execution_count": 19,
   "metadata": {},
   "outputs": [
    {
     "name": "stdout",
     "output_type": "stream",
     "text": [
      "54407\n",
      "54407\n"
     ]
    }
   ],
   "source": [
    "print(len(data))\n",
    "print(len(labels))"
   ]
  },
  {
   "cell_type": "code",
   "execution_count": null,
   "metadata": {},
   "outputs": [],
   "source": []
  }
 ],
 "metadata": {
  "kernelspec": {
   "display_name": "Python 2",
   "language": "python",
   "name": "python2"
  },
  "language_info": {
   "codemirror_mode": {
    "name": "ipython",
    "version": 2
   },
   "file_extension": ".py",
   "mimetype": "text/x-python",
   "name": "python",
   "nbconvert_exporter": "python",
   "pygments_lexer": "ipython2",
   "version": "2.7.14"
  }
 },
 "nbformat": 4,
 "nbformat_minor": 2
}
